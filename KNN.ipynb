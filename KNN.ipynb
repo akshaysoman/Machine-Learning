{
 "cells": [
  {
   "cell_type": "markdown",
   "id": "a75bb350",
   "metadata": {},
   "source": [
    "loading iris data and splitting the data as X_train,X_test,y_train,y_test"
   ]
  },
  {
   "cell_type": "code",
   "execution_count": 47,
   "id": "36163e77",
   "metadata": {},
   "outputs": [],
   "source": [
    "import numpy as np\n",
    "import math\n",
    "from sklearn.datasets import load_iris\n",
    "iris = load_iris()\n",
    "from sklearn.model_selection import train_test_split\n",
    "X_train,X_test,y_train,y_test = train_test_split(iris['data'],iris['target'],random_state=142)\n",
    "\n"
   ]
  },
  {
   "cell_type": "markdown",
   "id": "9759f3ce",
   "metadata": {},
   "source": [
    "loading ionsphere data and splitting the data as X_train1,X_test1,y_train1,y_test1"
   ]
  },
  {
   "cell_type": "code",
   "execution_count": 48,
   "id": "b8d64e25",
   "metadata": {},
   "outputs": [],
   "source": [
    "X = np.genfromtxt(\"ionosphere[1].txt\", delimiter=\",\",usecols = np.arange(34))\n",
    "Y = np.genfromtxt(\"ionosphere[1].txt\", delimiter=\",\",usecols = 34)\n",
    "from sklearn.model_selection import train_test_split\n",
    "X_train1,X_test1,y_train1,y_test1 = train_test_split(X,Y,random_state=142)\n"
   ]
  },
  {
   "cell_type": "markdown",
   "id": "c52bd772",
   "metadata": {},
   "source": [
    "Recreating conformal prediction using the examples in the slide"
   ]
  },
  {
   "cell_type": "code",
   "execution_count": 63,
   "id": "c64ac9c3",
   "metadata": {},
   "outputs": [],
   "source": [
    "X_train3 =np.array([[0,3],[2,2],[3,3],[-1,1],[-1,-1], [0,1]])\n",
    "y_train3 =np.array([1,1,1,0,0,0])\n",
    "X_test3 =np.array([[0,0]])"
   ]
  },
  {
   "cell_type": "markdown",
   "id": "a57696ea",
   "metadata": {},
   "source": [
    "# Algorithm for nearest neighbour"
   ]
  },
  {
   "cell_type": "code",
   "execution_count": 50,
   "id": "c86f0ef5",
   "metadata": {},
   "outputs": [],
   "source": [
    "def min(x):\n",
    "    \n",
    "    minimum = math.inf               #method for finding shortest distance\n",
    "    for i in x:\n",
    "        if i < minimum:\n",
    "            minimum = i\n",
    "    return minimum  "
   ]
  },
  {
   "cell_type": "code",
   "execution_count": 51,
   "id": "8243d9c0",
   "metadata": {},
   "outputs": [],
   "source": [
    "\n",
    "def NN(X_test,X_train,y_train,y_test):\n",
    "    \n",
    "    truelabels = 0\n",
    "    falselabels = 0\n",
    "    distance = np.zeros(len(X_train))\n",
    "    label = []\n",
    "    \n",
    "    for X in X_test:                                         \n",
    "        for i in range(len(X_train)):\n",
    "            sumsquares = 0\n",
    "            for j in range(len(X)):\n",
    "                sumsquares += (X[j] - X_train[i][j])**2\n",
    "            distance[i] = math.sqrt(sumsquares)\n",
    "\n",
    "            \n",
    "        nearest_distance = min(distance)         #using min method to obtain shortest distance\n",
    "        index = np.argmin(distance)\n",
    "        nearest_label = y_train[index]\n",
    "        label.append(nearest_label)         #storing the labels of nearest neighbours in the variable 'label'\n",
    "        \n",
    "        \n",
    "    for k in range (len(X_test)):\n",
    "        a = (bool(label[k] == y_test[k]))   #checking if the predicted label is equal to true label\n",
    "        if (a == True):\n",
    "            truelabels += 1\n",
    "        else:                          \n",
    "            falselabels +=1              \n",
    "            \n",
    "    \n",
    "    error_rate = falselabels/len(X_test)\n",
    "    success_rate = truelabels/len(X_test)\n",
    "    print(error_rate)\n",
    "    \n",
    " "
   ]
  },
  {
   "cell_type": "markdown",
   "id": "61bfb27f",
   "metadata": {},
   "source": [
    "Error rate for iris dataset"
   ]
  },
  {
   "cell_type": "code",
   "execution_count": 54,
   "id": "afb0d25d",
   "metadata": {},
   "outputs": [
    {
     "name": "stdout",
     "output_type": "stream",
     "text": [
      "0.10526315789473684\n"
     ]
    }
   ],
   "source": [
    "NN(X_test,X_train,y_train,y_test)"
   ]
  },
  {
   "cell_type": "markdown",
   "id": "79a6a1fc",
   "metadata": {},
   "source": [
    "Error rate for ionsphere dataset"
   ]
  },
  {
   "cell_type": "code",
   "execution_count": 53,
   "id": "d13c6344",
   "metadata": {},
   "outputs": [
    {
     "name": "stdout",
     "output_type": "stream",
     "text": [
      "0.19318181818181818\n"
     ]
    }
   ],
   "source": [
    "NN(X_test1,X_train1,y_train1,y_test1)"
   ]
  },
  {
   "cell_type": "code",
   "execution_count": null,
   "id": "51a283b1",
   "metadata": {},
   "outputs": [],
   "source": []
  },
  {
   "cell_type": "markdown",
   "id": "857228c5",
   "metadata": {},
   "source": [
    "# conformal prediction"
   ]
  },
  {
   "cell_type": "markdown",
   "id": "60061d02",
   "metadata": {},
   "source": [
    "\"method to find the distance between two arrays\""
   ]
  },
  {
   "cell_type": "code",
   "execution_count": 55,
   "id": "e55d6deb",
   "metadata": {},
   "outputs": [],
   "source": [
    "# \n",
    "def eucledian(a,b):\n",
    "        import math\n",
    "        sumsquares = 0\n",
    "        for i in range (len (a)):\n",
    "            \n",
    "            sumsquares += ((a[i]-b[i])**2)\n",
    "            distance =math.sqrt(sumsquares)\n",
    "        return(distance)\n",
    "        \n"
   ]
  },
  {
   "cell_type": "markdown",
   "id": "1258f7f1",
   "metadata": {},
   "source": [
    "\"method to find the rank\" "
   ]
  },
  {
   "cell_type": "code",
   "execution_count": 56,
   "id": "b7af3820",
   "metadata": {},
   "outputs": [],
   "source": [
    "# a = list of alphas = list of conformity score\n",
    "def ranking(a):\n",
    "    test_score = a[-1]\n",
    "    rank=0\n",
    "    for i in range(len(a)):\n",
    "        if test_score >= a[i]:\n",
    "            rank += 1\n",
    "    return rank\n"
   ]
  },
  {
   "cell_type": "markdown",
   "id": "c9d4703a",
   "metadata": {},
   "source": [
    "\"method to do division\""
   ]
  },
  {
   "cell_type": "code",
   "execution_count": 57,
   "id": "87396b37",
   "metadata": {},
   "outputs": [],
   "source": [
    "# a = distance to nearest sample of different class\n",
    "# b = distance to nearest sample of same class\n",
    "\n",
    "def division(a,b):\n",
    "    if b == 0:\n",
    "        return math.inf\n",
    "    else:\n",
    "        return a/b\n",
    "    \n"
   ]
  },
  {
   "cell_type": "markdown",
   "id": "7dc51c76",
   "metadata": {},
   "source": [
    "method to find the confirmity score and  pvalue"
   ]
  },
  {
   "cell_type": "code",
   "execution_count": 58,
   "id": "a7f01557",
   "metadata": {},
   "outputs": [],
   "source": [
    "def conformity(extendedtrainingset,extendedlabels):\n",
    "    \n",
    "\n",
    "    confirmity_measures = []\n",
    "    \n",
    "    for i,sample1 in enumerate (extendedtrainingset):\n",
    "        min_dist_same_class = math.inf\n",
    "        min_dist_diff_class = math.inf\n",
    "        confirmity_measure = 0\n",
    "        \n",
    "        for j,sample2 in enumerate (extendedtrainingset):  \n",
    "            if (j != i):                                          #(To make sure we are not calculating distance with the same sample)\n",
    "                \n",
    "                if extendedlabels[i] == extendedlabels[j]:        #(for selecting samples from same class)\n",
    "                    \n",
    "                \n",
    "                    dist_same_class = eucledian(sample1,sample2)\n",
    "                    if dist_same_class < min_dist_same_class:\n",
    "                        min_dist_same_class = dist_same_class\n",
    "                    \n",
    "                else:                                                   \n",
    "                    dist_diff_class = eucledian(sample1,sample2)\n",
    "                    if dist_diff_class < min_dist_diff_class:\n",
    "                        min_dist_diff_class = dist_diff_class\n",
    "        confirmity_measure = division(min_dist_diff_class,min_dist_same_class) #(using division function to find confirmity score)\n",
    "        confirmity_measures.append(confirmity_measure)\n",
    "        \n",
    "    rank = ranking(confirmity_measures)                      #(using ranking function to find the rank\n",
    "                                                            # and then finding the p values)\n",
    "    p_value = rank/len(extendedtrainingset)\n",
    "    return (p_value)\n",
    "    \n",
    "    \n",
    "    "
   ]
  },
  {
   "cell_type": "markdown",
   "id": "d8a03de2",
   "metadata": {},
   "source": [
    "\"method to iterate over test samples and concatenate each with the training samples and calling methods\""
   ]
  },
  {
   "cell_type": "code",
   "execution_count": 59,
   "id": "f01721cd",
   "metadata": {
    "scrolled": true
   },
   "outputs": [],
   "source": [
    "\n",
    " \n",
    "def conformalprediction(X_train,X_test,y_train):\n",
    "    p_values_of_xtests=[]\n",
    "    p_value_of_xtests = []\n",
    "    sum = 0 \n",
    "    labels = np.unique(y_train)\n",
    "    for i in range (len(X_test)):\n",
    "        a = np.array([X_test[i]])\n",
    "        extendedtrainingset = np.concatenate((X_train,a))        #(making extendedtrainingset by combaining training set with test set) ) \n",
    "        p_values_of_xtest=[]\n",
    "        for j in range(len(labels)):\n",
    "            samplespace = np.array([labels[j]])\n",
    "            extendedlabels = np.concatenate((y_train,samplespace))   #(combaining all possible labels of test set with labels of training set)\n",
    "            \n",
    "            p_value_of_xtest = conformity(extendedtrainingset,extendedlabels)\n",
    "            p_values_of_xtest.append(p_value_of_xtest)\n",
    "        \n",
    "        p_values_of_xtests.append(p_values_of_xtest)\n",
    "        \n",
    "    return(p_values_of_xtests)         \n",
    "       \n",
    "\n"
   ]
  },
  {
   "cell_type": "markdown",
   "id": "16bbbb03",
   "metadata": {},
   "source": [
    "P_values of iris dataset"
   ]
  },
  {
   "cell_type": "code",
   "execution_count": 60,
   "id": "cfabc1ab",
   "metadata": {},
   "outputs": [
    {
     "name": "stdout",
     "output_type": "stream",
     "text": [
      "[[0.8407079646017699, 0.008849557522123894, 0.008849557522123894], [0.008849557522123894, 0.5752212389380531, 0.008849557522123894], [0.008849557522123894, 0.08849557522123894, 0.008849557522123894], [0.008849557522123894, 0.008849557522123894, 0.6548672566371682], [0.008849557522123894, 0.584070796460177, 0.008849557522123894], [0.008849557522123894, 0.18584070796460178, 0.008849557522123894], [0.9911504424778761, 0.008849557522123894, 0.008849557522123894], [0.8761061946902655, 0.008849557522123894, 0.008849557522123894], [0.008849557522123894, 0.008849557522123894, 0.168141592920354], [0.008849557522123894, 0.20353982300884957, 0.008849557522123894], [0.008849557522123894, 0.2743362831858407, 0.008849557522123894], [0.008849557522123894, 0.584070796460177, 0.008849557522123894], [0.008849557522123894, 0.008849557522123894, 0.5486725663716814], [1.0, 0.008849557522123894, 0.008849557522123894], [0.008849557522123894, 0.017699115044247787, 0.04424778761061947], [0.8053097345132744, 0.008849557522123894, 0.008849557522123894], [0.008849557522123894, 0.008849557522123894, 0.504424778761062], [0.008849557522123894, 0.5132743362831859, 0.008849557522123894], [0.008849557522123894, 0.05309734513274336, 0.008849557522123894], [0.008849557522123894, 0.05309734513274336, 0.008849557522123894], [0.008849557522123894, 0.008849557522123894, 0.05309734513274336], [0.008849557522123894, 0.6106194690265486, 0.008849557522123894], [0.7168141592920354, 0.008849557522123894, 0.008849557522123894], [0.008849557522123894, 0.415929203539823, 0.008849557522123894], [0.008849557522123894, 0.008849557522123894, 0.21238938053097345], [0.008849557522123894, 0.02654867256637168, 0.017699115044247787], [0.008849557522123894, 0.008849557522123894, 0.168141592920354], [0.008849557522123894, 0.008849557522123894, 0.05309734513274336], [0.8672566371681416, 0.008849557522123894, 0.008849557522123894], [0.008849557522123894, 0.13274336283185842, 0.008849557522123894], [0.008849557522123894, 0.008849557522123894, 0.18584070796460178], [0.008849557522123894, 0.18584070796460178, 0.008849557522123894], [0.008849557522123894, 0.008849557522123894, 0.49557522123893805], [0.008849557522123894, 0.11504424778761062, 0.017699115044247787], [0.008849557522123894, 0.008849557522123894, 0.10619469026548672], [0.008849557522123894, 0.008849557522123894, 0.061946902654867256], [0.008849557522123894, 0.10619469026548672, 0.008849557522123894], [0.008849557522123894, 0.008849557522123894, 0.05309734513274336]]\n"
     ]
    }
   ],
   "source": [
    "print(conformalprediction(X_train,X_test,y_train))\n"
   ]
  },
  {
   "cell_type": "markdown",
   "id": "9c759f55",
   "metadata": {},
   "source": [
    "P_values of Ionsphere Dataset"
   ]
  },
  {
   "cell_type": "code",
   "execution_count": 62,
   "id": "4f7241c5",
   "metadata": {},
   "outputs": [
    {
     "name": "stdout",
     "output_type": "stream",
     "text": [
      "[[0.2840909090909091, 0.041666666666666664], [0.003787878787878788, 0.821969696969697], [0.003787878787878788, 0.6893939393939394], [0.003787878787878788, 0.821969696969697], [0.030303030303030304, 0.3333333333333333], [0.2159090909090909, 0.06818181818181818], [0.10984848484848485, 0.13257575757575757], [0.01893939393939394, 0.3522727272727273], [0.003787878787878788, 0.5454545454545454], [0.003787878787878788, 0.8863636363636364], [0.003787878787878788, 0.7840909090909091], [0.056818181818181816, 0.2537878787878788], [0.08333333333333333, 0.17424242424242425], [0.015151515151515152, 0.36363636363636365], [0.11742424242424243, 0.11742424242424243], [0.011363636363636364, 0.38257575757575757], [0.17045454545454544, 0.08333333333333333], [0.003787878787878788, 0.6174242424242424], [0.003787878787878788, 0.6553030303030303], [0.003787878787878788, 0.8371212121212122], [0.003787878787878788, 0.8522727272727273], [0.003787878787878788, 0.7083333333333334], [0.3143939393939394, 0.041666666666666664], [0.003787878787878788, 0.8825757575757576], [0.003787878787878788, 0.7083333333333334], [0.003787878787878788, 0.7386363636363636], [0.041666666666666664, 0.2916666666666667], [0.011363636363636364, 0.375], [0.003787878787878788, 0.4659090909090909], [0.011363636363636364, 0.38636363636363635], [0.11363636363636363, 0.12878787878787878], [0.003787878787878788, 0.7462121212121212], [0.09090909090909091, 0.15151515151515152], [0.003787878787878788, 0.625], [0.14393939393939395, 0.09848484848484848], [0.003787878787878788, 0.7954545454545454], [0.003787878787878788, 0.803030303030303], [0.003787878787878788, 0.7803030303030303], [0.003787878787878788, 0.7159090909090909], [0.003787878787878788, 0.7045454545454546], [0.003787878787878788, 0.6098484848484849], [0.003787878787878788, 0.5757575757575758], [0.26136363636363635, 0.041666666666666664], [0.015151515151515152, 0.375], [0.015151515151515152, 0.36742424242424243], [0.003787878787878788, 0.5378787878787878], [0.003787878787878788, 0.8371212121212122], [0.24242424242424243, 0.06060606060606061], [0.3371212121212121, 0.03409090909090909], [0.003787878787878788, 0.5757575757575758], [0.01893939393939394, 0.35984848484848486], [0.06439393939393939, 0.23484848484848486], [0.003787878787878788, 0.9772727272727273], [0.24242424242424243, 0.06060606060606061], [0.003787878787878788, 0.571969696969697], [0.003787878787878788, 0.6856060606060606], [0.015151515151515152, 0.375], [0.003787878787878788, 0.8939393939393939], [0.11363636363636363, 0.12878787878787878], [0.06439393939393939, 0.23484848484848486], [0.003787878787878788, 0.8674242424242424], [0.003787878787878788, 0.8409090909090909], [0.2840909090909091, 0.041666666666666664], [0.003787878787878788, 0.571969696969697], [0.007575757575757576, 0.4431818181818182], [0.2159090909090909, 0.06818181818181818], [0.42424242424242425, 0.007575757575757576], [0.003787878787878788, 0.625], [0.007575757575757576, 0.5189393939393939], [0.003787878787878788, 0.8522727272727273], [0.17424242424242425, 0.07954545454545454], [0.003787878787878788, 0.4356060606060606], [0.14393939393939395, 0.09848484848484848], [0.1553030303030303, 0.0946969696969697], [0.03409090909090909, 0.3181818181818182], [0.011363636363636364, 0.36742424242424243], [0.003787878787878788, 0.7083333333333334], [0.003787878787878788, 0.8863636363636364], [0.003787878787878788, 0.7613636363636364], [0.003787878787878788, 0.6628787878787878], [0.003787878787878788, 0.5871212121212122], [0.003787878787878788, 0.5643939393939394], [0.03787878787878788, 0.3181818181818182], [0.18181818181818182, 0.07575757575757576], [0.003787878787878788, 0.8143939393939394], [0.23863636363636365, 0.06439393939393939], [0.007575757575757576, 0.5454545454545454], [0.14393939393939395, 0.09848484848484848]]\n"
     ]
    }
   ],
   "source": [
    "print(conformalprediction(X_train1,X_test1,y_train1))"
   ]
  },
  {
   "cell_type": "markdown",
   "id": "6d132a7e",
   "metadata": {},
   "source": [
    "P_values of the samples in the slide"
   ]
  },
  {
   "cell_type": "code",
   "execution_count": 61,
   "id": "394915db",
   "metadata": {},
   "outputs": [
    {
     "name": "stdout",
     "output_type": "stream",
     "text": [
      "[[0.8571428571428571, 0.14285714285714285]]\n"
     ]
    }
   ],
   "source": [
    "print(conformalprediction(X_train3,X_test3,y_train3))"
   ]
  },
  {
   "cell_type": "code",
   "execution_count": null,
   "id": "008479d0",
   "metadata": {},
   "outputs": [],
   "source": []
  }
 ],
 "metadata": {
  "kernelspec": {
   "display_name": "Python 3 (ipykernel)",
   "language": "python",
   "name": "python3"
  },
  "language_info": {
   "codemirror_mode": {
    "name": "ipython",
    "version": 3
   },
   "file_extension": ".py",
   "mimetype": "text/x-python",
   "name": "python",
   "nbconvert_exporter": "python",
   "pygments_lexer": "ipython3",
   "version": "3.9.7"
  }
 },
 "nbformat": 4,
 "nbformat_minor": 5
}
